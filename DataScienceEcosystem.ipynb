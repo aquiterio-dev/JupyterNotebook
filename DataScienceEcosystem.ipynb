{
 "cells": [
  {
   "cell_type": "markdown",
   "id": "de85b7c3-fa77-4073-9bf4-3fc244f6f04e",
   "metadata": {},
   "source": [
    "# Data Science Tools and Ecosystem"
   ]
  },
  {
   "cell_type": "markdown",
   "id": "ebaf45ab-adbc-4ac9-ae2a-bfd6dc71c540",
   "metadata": {},
   "source": [
    "## In this notebook, Data Science Tools and Ecosystems are summarized."
   ]
  },
  {
   "cell_type": "markdown",
   "id": "86ac4196-8d45-4489-940d-1d8dd4a034b8",
   "metadata": {},
   "source": [
    "| Objectives: |\n",
    "| ----------- |\n",
    "- Data Visualization with R \n",
    "- Machine Learning and Deep Learning \n",
    "- Jupyter Architecture "
   ]
  },
  {
   "cell_type": "markdown",
   "id": "0d4c2a3f-8df0-48b7-be58-a8d796758553",
   "metadata": {},
   "source": [
    "### Some of the popular languages that Data Scienctist use are:\n",
    "1. Python\n",
    "2. R\n",
    "3. SQL"
   ]
  },
  {
   "cell_type": "markdown",
   "id": "7ad84f6c-4ada-4e31-b371-7123c87ef412",
   "metadata": {},
   "source": [
    "### Some of the commonly used libraries used by Data Scienctists include:\n",
    "1. NumPy\n",
    "2. SciKit-Learn\n",
    "3. R Libraries"
   ]
  },
  {
   "cell_type": "markdown",
   "id": "1e939fc3-550d-40df-9af0-dd1f4d786e80",
   "metadata": {},
   "source": [
    "###  Data Science Tools\n",
    "| Data Science Tools |\n",
    "| ------ |\n",
    "| Jupyter Notebooks |\n",
    "| Anaconda |\n",
    "| Google CoLaboratory |"
   ]
  },
  {
   "cell_type": "markdown",
   "id": "a72a7068-eb37-4a5b-b1ed-1a20792f7662",
   "metadata": {},
   "source": [
    "### Below are a few examples of evaluating arithmetic expressions in Python"
   ]
  },
  {
   "cell_type": "code",
   "execution_count": 17,
   "id": "1399e5da-9a0f-4763-8aec-e662829ccb4f",
   "metadata": {},
   "outputs": [
    {
     "data": {
      "text/plain": [
       "17"
      ]
     },
     "execution_count": 17,
     "metadata": {},
     "output_type": "execute_result"
    }
   ],
   "source": [
    "# This is a simple arithmetic expression to multiply then add integers\n",
    "(3*4)+5"
   ]
  },
  {
   "cell_type": "code",
   "execution_count": 19,
   "id": "2cf345e6-9f11-4398-86e4-a4aad54b816d",
   "metadata": {},
   "outputs": [
    {
     "data": {
      "text/plain": [
       "3.3333333333333335"
      ]
     },
     "execution_count": 19,
     "metadata": {},
     "output_type": "execute_result"
    }
   ],
   "source": [
    "# This will convert 200 minutes into hours by dividing by 60\n",
    "200/60"
   ]
  },
  {
   "cell_type": "markdown",
   "id": "68d89df7-3ea5-4d72-9a01-1b911ba5d6d9",
   "metadata": {},
   "source": [
    "## Author\n",
    "Andrew Quiterio"
   ]
  },
  {
   "cell_type": "code",
   "execution_count": null,
   "id": "f4a82679-bb1f-4cac-9e94-e66d2da49b79",
   "metadata": {},
   "outputs": [],
   "source": []
  }
 ],
 "metadata": {
  "kernelspec": {
   "display_name": "Python 3 (ipykernel)",
   "language": "python",
   "name": "python3"
  },
  "language_info": {
   "codemirror_mode": {
    "name": "ipython",
    "version": 3
   },
   "file_extension": ".py",
   "mimetype": "text/x-python",
   "name": "python",
   "nbconvert_exporter": "python",
   "pygments_lexer": "ipython3",
   "version": "3.12.4"
  }
 },
 "nbformat": 4,
 "nbformat_minor": 5
}
